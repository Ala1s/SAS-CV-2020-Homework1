{
 "cells": [
  {
   "cell_type": "markdown",
   "metadata": {},
   "source": [
    "# Домашнее задание 1 - Классификация\n",
    "<br>\n",
    "\n",
    "Задание выполнил(а): *(впишите свои фамилию и имя)*\n",
    "<br>\n",
    "**Дедлайн:** 27.10.2020 23:59\n",
    "\n",
    "\n",
    "### О задании\n",
    "В этом домашнем задании вы научитесь работать с CAS при помощи библиотеки swat, познакомитесь c библиотекой dlpy, позволяющей использовать функциональность SAS для глубинного обучения из Python, а так же постороите с помощью этих библиотек модель для классификации изображений одежды.\n",
    "<br>\n",
    "Для выполнения заданий нужно самостоятельно написать или дополнить написанный код, а так же письменно ответить на вопросы (в зависимости от задания).\n",
    "\n",
    "**Домашнее задание построено следующим образом:**\n",
    "- Подключение к серверу CAS\n",
    "- Задание 1: Загрузка данных в CAS (1 балл)\n",
    "- Задание 2: Посмотрим на данные (1 балл)\n",
    "- Задание 3: Выделение валидационной выборки из train (1 балл)\n",
    "- Задание 4: Построение нейронной сети (3 балла)\n",
    "- Задание 5: Обучение сети (2 балла)\n",
    "- Задание 6: Оценка качества полученной модели (2 балла)\n",
    "- Дополнительное задание: Aугментации исходных данных (+2 балла)<br>\n",
    "\n",
    "Итого, полностью выполнив задание вы получите 10 баллов. Вы также можете выполнить дополнительное задание, чтобы получить еще 2 бонусных балла.\n",
    "\n",
    "### Формат сдачи\n",
    "\n",
    "После того, как вы выполните домашную работу, поместите jupyter notebook с выполнеными заданиями, а так же все SAS-таблицы с сохраненными моделями в закрытый git-репозиторий на GitHub. Предоставьте доступ к репозиторию аккаунтам GazizovMarat и Ala1s (добавив в свой реппозиторий в качестве коллабораторов).\n",
    "\n",
    "### Важно \n",
    "Для того, чтобы ваши результаты были воспроизводимыми для проверки, указывайте seed при вызове методов, где это возможно. Напоминания об этом так же содержатся в тексте заданий."
   ]
  },
  {
   "cell_type": "code",
   "execution_count": null,
   "metadata": {},
   "outputs": [],
   "source": [
    "import os\n",
    "import numpy as np\n",
    "import cv2\n",
    "from tqdm import tqdm\n",
    "import matplotlib.pyplot as plt\n",
    "%matplotlib inline\n",
    "\n",
    "from swat import *\n",
    "from dlpy import Model, Sequential\n",
    "from dlpy.layers import *\n",
    "from dlpy.images import ImageTable\n",
    "from dlpy.splitting import two_way_split\n",
    "import graphviz"
   ]
  },
  {
   "cell_type": "markdown",
   "metadata": {},
   "source": [
    "## Подключение к серверу CAS"
   ]
  },
  {
   "cell_type": "markdown",
   "metadata": {},
   "source": [
    "Подключитесь к серверу CAS под своим логином и паролем.<br>Загрузите следующие Action Sets: 'image','deepLearn'.<br>\n",
    "<br>\n",
    "Для выполнения задания обратитесь к документации по следующим ссылкам: <br>\n",
    "- https://sassoftware.github.io/python-swat/getting-started.html <br>"
   ]
  },
  {
   "cell_type": "code",
   "execution_count": null,
   "metadata": {},
   "outputs": [],
   "source": [
    "os.environ['CAS_CLIENT_SSL_CA_LIST'] = r\"/tmp/4fix/trustedcerts.pem\"\n",
    "\n",
    "# Создаем новую сессию CAS:\n",
    "\n",
    "s = CAS('tiger.cs.msu.ru', 5570, username='username', password='password')\n",
    "\n",
    "# Загружаем action sets:\n",
    "\n",
    "s.loadactionset('image')\n",
    "s.loadactionset('deepLearn')\n",
    "s.loadactionset('datastep')"
   ]
  },
  {
   "cell_type": "markdown",
   "metadata": {},
   "source": [
    "#### Загрузка данных\n",
    "Для работы с изображениями в SAS DLPy используются специализированные таблицы - ImageTable. Для загрузки набора данных, помимо сессии CAS и названия для новой таблицы, требуется указать путь к папке с набором данных сервере. \n",
    "При загрузке нужно указать путь к папке, устроенной следующим образом: <br>\n",
    "* shirt\n",
    "    - shirt_image0.png\n",
    "    - shirt_image1.png\n",
    "    - ...\n",
    "* pants\n",
    "    - pants_image0.png\n",
    "    - pants_image1.png\n",
    "    - ...\n",
    "* ... \n",
    "<br>\n",
    "То есть, папка должна состоять из подпапок, называющихся соответственно классам обьектов на изображении. В каждой из таких подпапок должны лежать все изобращения с обьектами соответствующего класса.<br>\n",
    "Папки train-images (обучающая выборка) и t10k-images (тестовая выборка) внутри папки data в этом репозитории устроены описанным выше образом. \n",
    "Также, данные fashion-MNIST можно скачать из следующего репозитория:<br> \n",
    "- https://github.com/zalandoresearch/fashion-mnist <br>\n",
    "\n",
    "**Задание 1: Загрузка данных в CAS**<br>\n",
    "Загрузите обучающие и тестовые данные в CAS, создав ImageTable (для каждой выборки отдельно)."
   ]
  },
  {
   "cell_type": "code",
   "execution_count": null,
   "metadata": {},
   "outputs": [],
   "source": [
    "# создайте ImageTable для обучающей выборки #"
   ]
  },
  {
   "cell_type": "code",
   "execution_count": null,
   "metadata": {},
   "outputs": [],
   "source": [
    "# создайте ImageTable для тестовой выборки #"
   ]
  },
  {
   "cell_type": "markdown",
   "metadata": {},
   "source": [
    "**Задание 2: Исследование данных**<br>\n",
    "а) С помощью метода show выведите 16 случайных изображений из ImageTable в таблице размером 4x4 ячейки (для train и test отдельно)."
   ]
  },
  {
   "cell_type": "code",
   "execution_count": null,
   "metadata": {
    "scrolled": true
   },
   "outputs": [],
   "source": [
    "# выведите 16 изображений из обучающей выборки #"
   ]
  },
  {
   "cell_type": "code",
   "execution_count": null,
   "metadata": {},
   "outputs": [],
   "source": [
    "# выведите 16 изображений из тестовой выборки #"
   ]
  },
  {
   "cell_type": "markdown",
   "metadata": {},
   "source": [
    "b) Найдите метод класса ImageTable, позволяющий подсчитать статистику по метаданным таблицы (например, средние размеры или значения пикселей). Примените этот метод к таблицам, в которые вы загрузили наборы данных train и test."
   ]
  },
  {
   "cell_type": "code",
   "execution_count": null,
   "metadata": {},
   "outputs": [],
   "source": [
    "# статистики по метаданным для train #"
   ]
  },
  {
   "cell_type": "code",
   "execution_count": null,
   "metadata": {},
   "outputs": [],
   "source": [
    "# статистики по метаданным для test #"
   ]
  },
  {
   "cell_type": "markdown",
   "metadata": {},
   "source": [
    "**Задание 3: Выделение валидационной выборки из train**<br>\n",
    "- Перед тем, как выделить из train выборку для валидации модели, посмотрите на распределение классов (с помощью свойства ImageTable).\n",
    "- Выделите из таблицы train выборку в размере 15 процентов от исходного с помощью two_way_split. Убедитесь, что вы задали seed, для того, чтобы мы могли воспроизвести и проверить ваши результаты), а возвращаемые таблицы - типа ImageTable, как и исходная.\n",
    "- После выделения validate выборки, снова посмотрите на распреление классов на train и validate выборках, чтобы убедиться, что в обеих выборках присутстует равное количество примеров для каждого из классов."
   ]
  },
  {
   "cell_type": "code",
   "execution_count": null,
   "metadata": {},
   "outputs": [],
   "source": [
    "train_data.label_freq"
   ]
  },
  {
   "cell_type": "code",
   "execution_count": null,
   "metadata": {},
   "outputs": [],
   "source": [
    "# код для деления на 2 выборки\n",
    "train_data, val_data = two_way_split("
   ]
  },
  {
   "cell_type": "code",
   "execution_count": null,
   "metadata": {},
   "outputs": [],
   "source": [
    "val_data.label_freq"
   ]
  },
  {
   "attachments": {
    "model.PNG": {
     "image/png": "[encoded data removed]"
    }
   },
   "cell_type": "markdown",
   "metadata": {},
   "source": [
    "**Задание 4: Построение модели**<br>\n",
    "Постройте модель, соответствующую изображенной на картинке, c помощью dlpy в Sequential-подходе.\n",
    "![model.PNG](attachment:model.PNG)"
   ]
  },
  {
   "cell_type": "code",
   "execution_count": null,
   "metadata": {},
   "outputs": [],
   "source": [
    "# код для построения модели #"
   ]
  },
  {
   "cell_type": "markdown",
   "metadata": {},
   "source": [
    "**Задание 5: Oбучение модели**<br>\n",
    "а) Обучите построенную модель. Гиперпараметры для обучения уже заданы, менять их не требуется. Не забудьте задать seed, чтобы  ваши результаты были воспроизводимыми. Полученная вами модель должна показать Miscalssification Rate < 15% на тестовой выборке."
   ]
  },
  {
   "cell_type": "code",
   "execution_count": null,
   "metadata": {},
   "outputs": [],
   "source": [
    "from dlpy.model import *\n",
    "from dlpy.model import Optimizer\n",
    "from dlpy.lr_scheduler import *"
   ]
  },
  {
   "cell_type": "code",
   "execution_count": null,
   "metadata": {},
   "outputs": [],
   "source": [
    "# Variable for Number of Epochs\n",
    "nEpoch=50\n",
    "\n",
    "# Variable for Number of Threads\n",
    "nThread=4\n",
    "\n",
    "# Variable for Batch Size\n",
    "batchSize=128\n",
    "\n",
    "# Calculate miniBatch Size\n",
    "miniBatch=math.ceil(batchSize/nThread)\n",
    "\n",
    "# Define Learning Rate scheduler parameters\n",
    "lr_scheduler=ReduceLROnPlateau(conn=s, \n",
    "                               cool_down_iters=3, \n",
    "                               gamma=0.8, \n",
    "                               learning_rate=0.001, \n",
    "                               patience=5\n",
    "                               )\n",
    "\n",
    "# Define Momentum Solver parameters\n",
    "solver=MomentumSolver(lr_scheduler=lr_scheduler,\n",
    "                      clip_grad_max = 100, \n",
    "                      clip_grad_min = -100\n",
    "                      )                       \n",
    "\n",
    "# Define Solver optimizer parameter settings\n",
    "optimizer=Optimizer(seed=12345, \n",
    "                    algorithm=solver, \n",
    "                    mini_batch_size = miniBatch, \n",
    "                    log_level=2, \n",
    "                    max_epochs=nEpoch, \n",
    "                    reg_l2=0.0005\n",
    "                    )\n"
   ]
  },
  {
   "cell_type": "code",
   "execution_count": null,
   "metadata": {},
   "outputs": [],
   "source": [
    "# код для обучения модели\n",
    "train_history = model.fit("
   ]
  },
  {
   "attachments": {
    "training.PNG": {
     "image/png": "[encoded data removed]"
    }
   },
   "cell_type": "markdown",
   "metadata": {},
   "source": [
    "b) Пользуясь значениями в history, постройте график, анологичный изображенному.\n",
    "![training.PNG](attachment:training.PNG)"
   ]
  },
  {
   "cell_type": "code",
   "execution_count": null,
   "metadata": {},
   "outputs": [],
   "source": [
    "history = train_history[\"OptIterHistory\"]\n",
    "\n",
    "#код для построения графика#"
   ]
  },
  {
   "cell_type": "markdown",
   "metadata": {},
   "source": [
    "**Задание 6: Oценка качества модели**<br>"
   ]
  },
  {
   "cell_type": "markdown",
   "metadata": {},
   "source": [
    "а) Выведите матрицу ошибок на валидационной выборке для модели и ответьте на следующие вопросы:\n",
    "- Сколько изображений сумок было корректно классифицированно моделью?\n",
    "- Сколько пулловеров было классифицированно моделью как рубашки? Наоборот?\n",
    "- В классификации какого предмета одежды модель ошибалась чаще всего? А реже всего?"
   ]
  },
  {
   "cell_type": "code",
   "execution_count": null,
   "metadata": {},
   "outputs": [],
   "source": [
    "# код для вывода матрицы ошибок#"
   ]
  },
  {
   "cell_type": "markdown",
   "metadata": {},
   "source": [
    "Ваши ответы на вопросы:\n",
    "1)\n",
    "2)\n",
    "3)"
   ]
  },
  {
   "cell_type": "markdown",
   "metadata": {},
   "source": [
    "b) Проскорьте модель на тестовой выборке."
   ]
  },
  {
   "cell_type": "code",
   "execution_count": null,
   "metadata": {},
   "outputs": [],
   "source": [
    "# код для скоринга #"
   ]
  },
  {
   "cell_type": "markdown",
   "metadata": {},
   "source": [
    "c) Выведите пример изображения, классифицированного верно, с помощью встроенной функции класса Model."
   ]
  },
  {
   "cell_type": "code",
   "execution_count": null,
   "metadata": {},
   "outputs": [],
   "source": [
    "# код для вывода верно классифицированного изображения#"
   ]
  },
  {
   "cell_type": "markdown",
   "metadata": {},
   "source": [
    "d) Выведите пример изображения, классифицированного ошибочно, с помощью встроенной функции класса Model."
   ]
  },
  {
   "cell_type": "code",
   "execution_count": null,
   "metadata": {},
   "outputs": [],
   "source": [
    "# код для вывода неверно классифицированного изображения#"
   ]
  },
  {
   "cell_type": "markdown",
   "metadata": {},
   "source": [
    "e) Сохраните полученную модель в SAS-таблицу, с помощью одного из методов класса Model."
   ]
  },
  {
   "cell_type": "code",
   "execution_count": null,
   "metadata": {},
   "outputs": [],
   "source": [
    "# код для сохранения модели #"
   ]
  },
  {
   "cell_type": "markdown",
   "metadata": {},
   "source": [
    "**Дополнительное задание: Aугментации исходных данных**<br>\n",
    "Изучите документацию к CAS-action augmentImages. Попробуйте улучшить результат предыдущей модели, применив аугментации к исходным данным и, по желанию, другие техники для улучшения качества модели. Полученную модель проскорьте на тестовой выборке и сохраните в SAS-таблицу. Выведите метрики качества новой модели на тестовой выборке."
   ]
  },
  {
   "cell_type": "code",
   "execution_count": null,
   "metadata": {},
   "outputs": [],
   "source": [
    "s.augmentImages(table=train_data,"
   ]
  }
 ],
 "metadata": {
  "kernelspec": {
   "display_name": "Python 3",
   "language": "python",
   "name": "python3"
  },
  "language_info": {
   "codemirror_mode": {
    "name": "ipython",
    "version": 3
   },
   "file_extension": ".py",
   "mimetype": "text/x-python",
   "name": "python",
   "nbconvert_exporter": "python",
   "pygments_lexer": "ipython3",
   "version": "3.7.6"
  }
 },
 "nbformat": 4,
 "nbformat_minor": 4
}
